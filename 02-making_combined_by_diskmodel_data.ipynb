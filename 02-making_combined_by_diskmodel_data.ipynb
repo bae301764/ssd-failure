{
 "cells": [
  {
   "cell_type": "code",
   "execution_count": 1,
   "metadata": {},
   "outputs": [],
   "source": [
    "import pandas as pd\n",
    "import numpy as np"
   ]
  },
  {
   "cell_type": "code",
   "execution_count": 2,
   "metadata": {},
   "outputs": [],
   "source": [
    "import os\n",
    "import pandas as pd\n",
    "#, 'MA2', 'MB1', 'MB2', 'MC1', 'MC2'\n",
    "model_list = ['MB2']\n",
    "output_folder = '../ssd_data/preprocessed_data'\n",
    "\n",
    "# model_list의 각 모델에 대해 반복\n",
    "for model in model_list:\n",
    "    output_filename = f'../ssd_data/combined_by_diskmodel/combined_{model}.csv'\n",
    "    \n",
    "    # 빈 데이터프레임 생성\n",
    "    merged_data = pd.DataFrame()\n",
    "\n",
    "    # 모델 이름으로 끝나는 .csv 파일 목록 가져오기\n",
    "    csv_files = [file for file in os.listdir(output_folder) if file.endswith(f'{model}.csv')]\n",
    "\n",
    "    # .csv 파일들을 순회하며 데이터프레임에 추가\n",
    "    for file in csv_files:\n",
    "        file_path = os.path.join(output_folder, file)\n",
    "        df = pd.read_csv(file_path)\n",
    "        if 'r_211' in df.columns:\n",
    "            del(df['r_211'])\n",
    "        merged_data = pd.concat([merged_data, df],ignore_index=True)\n",
    "\n",
    "    # 병합된 데이터프레임을 CSV 파일로 저장\n",
    "    merged_data.to_csv(output_filename, index=False)"
   ]
  }
 ],
 "metadata": {
  "kernelspec": {
   "display_name": "iise-python",
   "language": "python",
   "name": "python3"
  },
  "language_info": {
   "codemirror_mode": {
    "name": "ipython",
    "version": 3
   },
   "file_extension": ".py",
   "mimetype": "text/x-python",
   "name": "python",
   "nbconvert_exporter": "python",
   "pygments_lexer": "ipython3",
   "version": "3.8.11"
  },
  "orig_nbformat": 4
 },
 "nbformat": 4,
 "nbformat_minor": 2
}
